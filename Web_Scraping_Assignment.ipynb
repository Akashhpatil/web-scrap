{
 "cells": [
  {
   "cell_type": "markdown",
   "metadata": {},
   "source": [
    "### Importing Necessary Modules"
   ]
  },
  {
   "cell_type": "code",
   "execution_count": 1,
   "metadata": {},
   "outputs": [],
   "source": [
    "import pandas as pd  \n",
    "from time import sleep\n",
    "\n",
    "from selenium import webdriver\n",
    "from bs4 import BeautifulSoup"
   ]
  },
  {
   "cell_type": "code",
   "execution_count": 2,
   "metadata": {},
   "outputs": [],
   "source": [
    "# Define a function to extract image URLs\n",
    "def extract_image_url(tag):\n",
    "    \n",
    "    # Initialize an empty list to store image URLs\n",
    "    image_url = []\n",
    "    \n",
    "    # Construct the URL for Pinterest search with the provided tag\n",
    "    url = '''https://in.pinterest.com/search/pins/?q=''' + tag\n",
    "    \n",
    "    # Create a new Chrome webdriver instance\n",
    "    browser = webdriver.Chrome() \n",
    "    # Open the Pinterest search page\n",
    "    browser.get(url)\n",
    "    \n",
    "    # Scroll down the page multiple times to load more images\n",
    "    for _ in range(1,4):\n",
    "        browser.execute_script(\"window.scrollTo(1,100000)\")\n",
    "        print(\"scrolling\")\n",
    "        # Pause for 2 seconds to allow images to load\n",
    "        sleep(2)\n",
    "    \n",
    "    # Create a BeautifulSoup object to parse the HTML content of the page\n",
    "    soup = BeautifulSoup(browser.page_source,'html.parser')\n",
    "\n",
    "    # Find all image tags and extract the 'src' attribute (URL)\n",
    "    for link in soup.find_all('img'):\n",
    "        # Append the URL in image_url list\n",
    "        image_url.append(link.get('src'))\n",
    "\n",
    "    # Create a Pandas DataFrame with the extracted image URLs\n",
    "    df = pd.DataFrame({\"url\":image_url})\n",
    "    \n",
    "    # Prompt the user to enter a file name for the CSV file\n",
    "    name = input(\"Enter File name:\")\n",
    "    # Save the DataFrame to a CSV file with the specified name\n",
    "    df.to_csv(name+\".csv\",index=False)\n",
    "    \n",
    "    # Close the browser after scraping is done\n",
    "    browser.quit()"
   ]
  },
  {
   "cell_type": "code",
   "execution_count": 3,
   "metadata": {},
   "outputs": [
    {
     "name": "stdout",
     "output_type": "stream",
     "text": [
      "\n",
      "    Enter 1 to Enter the tag\n",
      "    Enter any other thing to exit\n",
      "    1\n",
      "Enter the tag:car\n",
      "scrolling\n",
      "scrolling\n",
      "scrolling\n",
      "Enter File name:cars\n",
      "\n",
      "    Enter 1 to Enter the tag\n",
      "    Enter any other thing to exit\n",
      "    asdwa\n"
     ]
    }
   ],
   "source": [
    "# Set up a loop to repeatedly ask for user input\n",
    "while True:\n",
    "    \n",
    "    # Taking user's choice\n",
    "    choice = input('''\n",
    "    Enter 1 to Enter the tag\n",
    "    Enter any other thing to exit\n",
    "    ''')\n",
    "    \n",
    "    \n",
    "    if choice == \"1\":\n",
    "        tag = input(\"Enter the tag:\")\n",
    "        try: \n",
    "            extract_image_url(tag) # Call the extract_image_url function\n",
    "        except Exception as e: # Handling Exception\n",
    "            print(\"Sorry unable to handle\",e) \n",
    "    else:\n",
    "        break # Exit the loop if the user enters anything other than \"1\""
   ]
  }
 ],
 "metadata": {
  "kernelspec": {
   "display_name": "Python 3",
   "language": "python",
   "name": "python3"
  },
  "language_info": {
   "codemirror_mode": {
    "name": "ipython",
    "version": 3
   },
   "file_extension": ".py",
   "mimetype": "text/x-python",
   "name": "python",
   "nbconvert_exporter": "python",
   "pygments_lexer": "ipython3",
   "version": "3.8.5"
  }
 },
 "nbformat": 4,
 "nbformat_minor": 4
}
